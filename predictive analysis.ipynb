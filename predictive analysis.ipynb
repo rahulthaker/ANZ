{
 "cells": [
  {
   "cell_type": "markdown",
   "metadata": {},
   "source": [
    "# Predictive alalysis of ANZ"
   ]
  },
  {
   "cell_type": "code",
   "execution_count": null,
   "metadata": {},
   "outputs": [],
   "source": [
    "import pandas as pd\n",
    "import numpy as np\n",
    "import matplotlib.pyplot as plt\n",
    "import seaborn as sns"
   ]
  },
  {
   "cell_type": "code",
   "execution_count": 2,
   "metadata": {},
   "outputs": [],
   "source": [
    "#gathering data\n",
    "df=pd.read_excel('ANZ synthesised transaction dataset.xlsx')\n",
    "pd.set_option('display.max_columns', None)\n",
    "df.drop(['merchant_code','bpay_biller_code'],axis=1,inplace=True)\n",
    "df['extraction']=pd.to_datetime(df['extraction'])"
   ]
  },
  {
   "cell_type": "code",
   "execution_count": 3,
   "metadata": {},
   "outputs": [],
   "source": [
    "df.sort_values('first_name',inplace=True)"
   ]
  },
  {
   "cell_type": "markdown",
   "metadata": {},
   "source": [
    "# Feature engineering"
   ]
  },
  {
   "cell_type": "code",
   "execution_count": 117,
   "metadata": {},
   "outputs": [],
   "source": [
    "#identifying salaries and features\n",
    "customers=df['first_name'].sort_values().unique()\n",
    "salaries=[]\n",
    "Norm_spending=[]\n",
    "age=[]\n",
    "gender=[]\n",
    "pos=[]\n",
    "spos=[]\n",
    "payment=[]\n",
    "inter_bank=[]\n",
    "long_lat=[]\n",
    "mean_balance=[]\n",
    "for customer in customers:\n",
    "    df_temp=df[df['first_name']==customer]\n",
    "    #variables\n",
    "        #amount\n",
    "    #df_amount=df_temp[df_temp['txn_description']!='PAY/SALARY']\n",
    "    nsp=df_temp['amount'].sum()\n",
    "    \n",
    "    \n",
    "    aget=df_temp['age'].unique()[0]\n",
    "    long_latt=float(df_temp['long_lat'].unique()[0].split()[0])+float(df_temp['long_lat'].unique()[0].split()[1])\n",
    "    gendert=df_temp['gender'].unique()[0]\n",
    "    \n",
    "    #annual salary\n",
    "    salary=sum((list(df_temp[df_temp['txn_description']=='PAY/SALARY']['amount'])))*3\n",
    "    spost=df_temp['txn_description'].value_counts()[0]\n",
    "    post=df_temp['txn_description'].value_counts()[1]\n",
    "    payt=df_temp['txn_description'].value_counts()[2]\n",
    "    intert=df_temp['txn_description'].value_counts()[3]\n",
    "    mb=df_temp['balance'].mean()\n",
    "    \n",
    "    #append\n",
    "    salaries.append(salary)\n",
    "    Norm_spending.append(nsp)\n",
    "    age.append(aget)\n",
    "    pos.append(post)\n",
    "    spos.append(spost)\n",
    "    payment.append(payt)\n",
    "    inter_bank.append(intert)\n",
    "    gender.append(gendert)\n",
    "    long_lat.append(long_latt)\n",
    "    mean_balance.append(mb)"
   ]
  },
  {
   "cell_type": "code",
   "execution_count": 118,
   "metadata": {},
   "outputs": [],
   "source": [
    "#creating a dataframe fit for analysis with features\n",
    "df_pred=df[['first_name']].copy()\n",
    "df_pred=df_pred.groupby(['first_name']).count().reset_index()\n",
    "df_pred['age']=age\n",
    "df_pred['gender']=gender\n",
    "df_pred['spending']=Norm_spending\n",
    "df_pred['inter-bank']=inter_bank\n",
    "df_pred['POS']=pos\n",
    "df_pred['Sale-pos']=spos\n",
    "df_pred['payment']=payment\n",
    "df_pred['long_lat']=long_lat\n",
    "df_pred['Avg_bal']=mean_balance\n",
    "df_pred['salary']=salaries\n",
    "#drop useless columns\n",
    "#df_pred.drop(['long_lat','first_name'],axis=1,inplace=True)"
   ]
  },
  {
   "cell_type": "code",
   "execution_count": 120,
   "metadata": {},
   "outputs": [
    {
     "name": "stderr",
     "output_type": "stream",
     "text": [
      "C:\\Users\\thake\\anaconda3\\lib\\site-packages\\ipykernel_launcher.py:6: SettingWithCopyWarning: \n",
      "A value is trying to be set on a copy of a slice from a DataFrame\n",
      "\n",
      "See the caveats in the documentation: https://pandas.pydata.org/pandas-docs/stable/user_guide/indexing.html#returning-a-view-versus-a-copy\n",
      "  \n",
      "C:\\Users\\thake\\anaconda3\\lib\\site-packages\\ipykernel_launcher.py:8: SettingWithCopyWarning: \n",
      "A value is trying to be set on a copy of a slice from a DataFrame\n",
      "\n",
      "See the caveats in the documentation: https://pandas.pydata.org/pandas-docs/stable/user_guide/indexing.html#returning-a-view-versus-a-copy\n",
      "  \n"
     ]
    }
   ],
   "source": [
    "#interv=np.linspace(list(df_pred['salary'].sort_values())[0],list(df_pred['salary'].sort_values())[-1],3)\n",
    "avg_salary=df_pred['salary'].mean()\n",
    "df_pred['Class']=0\n",
    "for i in range(df_pred.shape[0]):\n",
    "    if(df_pred['salary'][i]>avg_salary):\n",
    "        df_pred['Class'][i]=0\n",
    "    else:\n",
    "        df_pred['Class'][i]=1"
   ]
  },
  {
   "cell_type": "code",
   "execution_count": 123,
   "metadata": {},
   "outputs": [
    {
     "data": {
      "text/html": [
       "<div>\n",
       "<style scoped>\n",
       "    .dataframe tbody tr th:only-of-type {\n",
       "        vertical-align: middle;\n",
       "    }\n",
       "\n",
       "    .dataframe tbody tr th {\n",
       "        vertical-align: top;\n",
       "    }\n",
       "\n",
       "    .dataframe thead th {\n",
       "        text-align: right;\n",
       "    }\n",
       "</style>\n",
       "<table border=\"1\" class=\"dataframe\">\n",
       "  <thead>\n",
       "    <tr style=\"text-align: right;\">\n",
       "      <th></th>\n",
       "      <th>first_name</th>\n",
       "      <th>age</th>\n",
       "      <th>gender</th>\n",
       "      <th>spending</th>\n",
       "      <th>inter-bank</th>\n",
       "      <th>POS</th>\n",
       "      <th>Sale-pos</th>\n",
       "      <th>payment</th>\n",
       "      <th>long_lat</th>\n",
       "      <th>Avg_bal</th>\n",
       "      <th>salary</th>\n",
       "      <th>Class</th>\n",
       "    </tr>\n",
       "  </thead>\n",
       "  <tbody>\n",
       "    <tr>\n",
       "      <th>0</th>\n",
       "      <td>Abigail</td>\n",
       "      <td>40</td>\n",
       "      <td>F</td>\n",
       "      <td>29711.92</td>\n",
       "      <td>13</td>\n",
       "      <td>31</td>\n",
       "      <td>37</td>\n",
       "      <td>18</td>\n",
       "      <td>103.62</td>\n",
       "      <td>11747.912549</td>\n",
       "      <td>75916.23</td>\n",
       "      <td>0</td>\n",
       "    </tr>\n",
       "    <tr>\n",
       "      <th>1</th>\n",
       "      <td>Alexander</td>\n",
       "      <td>38</td>\n",
       "      <td>M</td>\n",
       "      <td>27698.18</td>\n",
       "      <td>6</td>\n",
       "      <td>28</td>\n",
       "      <td>33</td>\n",
       "      <td>19</td>\n",
       "      <td>106.22</td>\n",
       "      <td>14156.888901</td>\n",
       "      <td>65691.18</td>\n",
       "      <td>0</td>\n",
       "    </tr>\n",
       "    <tr>\n",
       "      <th>2</th>\n",
       "      <td>Amy</td>\n",
       "      <td>43</td>\n",
       "      <td>F</td>\n",
       "      <td>14763.14</td>\n",
       "      <td>6</td>\n",
       "      <td>46</td>\n",
       "      <td>51</td>\n",
       "      <td>16</td>\n",
       "      <td>105.71</td>\n",
       "      <td>3397.883790</td>\n",
       "      <td>29346.48</td>\n",
       "      <td>1</td>\n",
       "    </tr>\n",
       "    <tr>\n",
       "      <th>3</th>\n",
       "      <td>Andrew</td>\n",
       "      <td>78</td>\n",
       "      <td>M</td>\n",
       "      <td>10845.25</td>\n",
       "      <td>3</td>\n",
       "      <td>12</td>\n",
       "      <td>16</td>\n",
       "      <td>3</td>\n",
       "      <td>107.27</td>\n",
       "      <td>54240.641471</td>\n",
       "      <td>28167.12</td>\n",
       "      <td>1</td>\n",
       "    </tr>\n",
       "    <tr>\n",
       "      <th>4</th>\n",
       "      <td>Antonio</td>\n",
       "      <td>26</td>\n",
       "      <td>M</td>\n",
       "      <td>22141.51</td>\n",
       "      <td>14</td>\n",
       "      <td>33</td>\n",
       "      <td>44</td>\n",
       "      <td>24</td>\n",
       "      <td>83.88</td>\n",
       "      <td>5551.276174</td>\n",
       "      <td>46154.22</td>\n",
       "      <td>1</td>\n",
       "    </tr>\n",
       "  </tbody>\n",
       "</table>\n",
       "</div>"
      ],
      "text/plain": [
       "  first_name  age gender  spending  inter-bank  POS  Sale-pos  payment  \\\n",
       "0    Abigail   40      F  29711.92          13   31        37       18   \n",
       "1  Alexander   38      M  27698.18           6   28        33       19   \n",
       "2        Amy   43      F  14763.14           6   46        51       16   \n",
       "3     Andrew   78      M  10845.25           3   12        16        3   \n",
       "4    Antonio   26      M  22141.51          14   33        44       24   \n",
       "\n",
       "   long_lat       Avg_bal    salary  Class  \n",
       "0    103.62  11747.912549  75916.23      0  \n",
       "1    106.22  14156.888901  65691.18      0  \n",
       "2    105.71   3397.883790  29346.48      1  \n",
       "3    107.27  54240.641471  28167.12      1  \n",
       "4     83.88   5551.276174  46154.22      1  "
      ]
     },
     "execution_count": 123,
     "metadata": {},
     "output_type": "execute_result"
    }
   ],
   "source": [
    "df_pred.head()"
   ]
  },
  {
   "cell_type": "markdown",
   "metadata": {},
   "source": [
    "# Co-relations and visuals"
   ]
  },
  {
   "cell_type": "code",
   "execution_count": 128,
   "metadata": {},
   "outputs": [
    {
     "data": {
      "text/html": [
       "<div>\n",
       "<style scoped>\n",
       "    .dataframe tbody tr th:only-of-type {\n",
       "        vertical-align: middle;\n",
       "    }\n",
       "\n",
       "    .dataframe tbody tr th {\n",
       "        vertical-align: top;\n",
       "    }\n",
       "\n",
       "    .dataframe thead th {\n",
       "        text-align: right;\n",
       "    }\n",
       "</style>\n",
       "<table border=\"1\" class=\"dataframe\">\n",
       "  <thead>\n",
       "    <tr style=\"text-align: right;\">\n",
       "      <th></th>\n",
       "      <th>age</th>\n",
       "      <th>spending</th>\n",
       "      <th>inter-bank</th>\n",
       "      <th>POS</th>\n",
       "      <th>Sale-pos</th>\n",
       "      <th>payment</th>\n",
       "      <th>long_lat</th>\n",
       "      <th>Avg_bal</th>\n",
       "      <th>salary</th>\n",
       "      <th>Class</th>\n",
       "    </tr>\n",
       "  </thead>\n",
       "  <tbody>\n",
       "    <tr>\n",
       "      <th>age</th>\n",
       "      <td>1.000000</td>\n",
       "      <td>-0.122120</td>\n",
       "      <td>-0.102066</td>\n",
       "      <td>-0.210031</td>\n",
       "      <td>-0.266826</td>\n",
       "      <td>-0.187261</td>\n",
       "      <td>0.088181</td>\n",
       "      <td>0.287923</td>\n",
       "      <td>-0.104040</td>\n",
       "      <td>0.028264</td>\n",
       "    </tr>\n",
       "    <tr>\n",
       "      <th>spending</th>\n",
       "      <td>-0.122120</td>\n",
       "      <td>1.000000</td>\n",
       "      <td>0.812672</td>\n",
       "      <td>0.612344</td>\n",
       "      <td>0.608412</td>\n",
       "      <td>0.832152</td>\n",
       "      <td>-0.008306</td>\n",
       "      <td>0.033800</td>\n",
       "      <td>0.988035</td>\n",
       "      <td>-0.629554</td>\n",
       "    </tr>\n",
       "    <tr>\n",
       "      <th>inter-bank</th>\n",
       "      <td>-0.102066</td>\n",
       "      <td>0.812672</td>\n",
       "      <td>1.000000</td>\n",
       "      <td>0.628820</td>\n",
       "      <td>0.598811</td>\n",
       "      <td>0.759743</td>\n",
       "      <td>0.089508</td>\n",
       "      <td>-0.047388</td>\n",
       "      <td>0.777211</td>\n",
       "      <td>-0.457501</td>\n",
       "    </tr>\n",
       "    <tr>\n",
       "      <th>POS</th>\n",
       "      <td>-0.210031</td>\n",
       "      <td>0.612344</td>\n",
       "      <td>0.628820</td>\n",
       "      <td>1.000000</td>\n",
       "      <td>0.971038</td>\n",
       "      <td>0.697076</td>\n",
       "      <td>0.041955</td>\n",
       "      <td>-0.131356</td>\n",
       "      <td>0.526494</td>\n",
       "      <td>-0.161708</td>\n",
       "    </tr>\n",
       "    <tr>\n",
       "      <th>Sale-pos</th>\n",
       "      <td>-0.266826</td>\n",
       "      <td>0.608412</td>\n",
       "      <td>0.598811</td>\n",
       "      <td>0.971038</td>\n",
       "      <td>1.000000</td>\n",
       "      <td>0.662423</td>\n",
       "      <td>0.057065</td>\n",
       "      <td>-0.143192</td>\n",
       "      <td>0.530276</td>\n",
       "      <td>-0.191502</td>\n",
       "    </tr>\n",
       "    <tr>\n",
       "      <th>payment</th>\n",
       "      <td>-0.187261</td>\n",
       "      <td>0.832152</td>\n",
       "      <td>0.759743</td>\n",
       "      <td>0.697076</td>\n",
       "      <td>0.662423</td>\n",
       "      <td>1.000000</td>\n",
       "      <td>-0.042010</td>\n",
       "      <td>-0.077953</td>\n",
       "      <td>0.769189</td>\n",
       "      <td>-0.441997</td>\n",
       "    </tr>\n",
       "    <tr>\n",
       "      <th>long_lat</th>\n",
       "      <td>0.088181</td>\n",
       "      <td>-0.008306</td>\n",
       "      <td>0.089508</td>\n",
       "      <td>0.041955</td>\n",
       "      <td>0.057065</td>\n",
       "      <td>-0.042010</td>\n",
       "      <td>1.000000</td>\n",
       "      <td>0.036850</td>\n",
       "      <td>-0.002812</td>\n",
       "      <td>0.098019</td>\n",
       "    </tr>\n",
       "    <tr>\n",
       "      <th>Avg_bal</th>\n",
       "      <td>0.287923</td>\n",
       "      <td>0.033800</td>\n",
       "      <td>-0.047388</td>\n",
       "      <td>-0.131356</td>\n",
       "      <td>-0.143192</td>\n",
       "      <td>-0.077953</td>\n",
       "      <td>0.036850</td>\n",
       "      <td>1.000000</td>\n",
       "      <td>0.052982</td>\n",
       "      <td>-0.103578</td>\n",
       "    </tr>\n",
       "    <tr>\n",
       "      <th>salary</th>\n",
       "      <td>-0.104040</td>\n",
       "      <td>0.988035</td>\n",
       "      <td>0.777211</td>\n",
       "      <td>0.526494</td>\n",
       "      <td>0.530276</td>\n",
       "      <td>0.769189</td>\n",
       "      <td>-0.002812</td>\n",
       "      <td>0.052982</td>\n",
       "      <td>1.000000</td>\n",
       "      <td>-0.661387</td>\n",
       "    </tr>\n",
       "    <tr>\n",
       "      <th>Class</th>\n",
       "      <td>0.028264</td>\n",
       "      <td>-0.629554</td>\n",
       "      <td>-0.457501</td>\n",
       "      <td>-0.161708</td>\n",
       "      <td>-0.191502</td>\n",
       "      <td>-0.441997</td>\n",
       "      <td>0.098019</td>\n",
       "      <td>-0.103578</td>\n",
       "      <td>-0.661387</td>\n",
       "      <td>1.000000</td>\n",
       "    </tr>\n",
       "  </tbody>\n",
       "</table>\n",
       "</div>"
      ],
      "text/plain": [
       "                 age  spending  inter-bank       POS  Sale-pos   payment  \\\n",
       "age         1.000000 -0.122120   -0.102066 -0.210031 -0.266826 -0.187261   \n",
       "spending   -0.122120  1.000000    0.812672  0.612344  0.608412  0.832152   \n",
       "inter-bank -0.102066  0.812672    1.000000  0.628820  0.598811  0.759743   \n",
       "POS        -0.210031  0.612344    0.628820  1.000000  0.971038  0.697076   \n",
       "Sale-pos   -0.266826  0.608412    0.598811  0.971038  1.000000  0.662423   \n",
       "payment    -0.187261  0.832152    0.759743  0.697076  0.662423  1.000000   \n",
       "long_lat    0.088181 -0.008306    0.089508  0.041955  0.057065 -0.042010   \n",
       "Avg_bal     0.287923  0.033800   -0.047388 -0.131356 -0.143192 -0.077953   \n",
       "salary     -0.104040  0.988035    0.777211  0.526494  0.530276  0.769189   \n",
       "Class       0.028264 -0.629554   -0.457501 -0.161708 -0.191502 -0.441997   \n",
       "\n",
       "            long_lat   Avg_bal    salary     Class  \n",
       "age         0.088181  0.287923 -0.104040  0.028264  \n",
       "spending   -0.008306  0.033800  0.988035 -0.629554  \n",
       "inter-bank  0.089508 -0.047388  0.777211 -0.457501  \n",
       "POS         0.041955 -0.131356  0.526494 -0.161708  \n",
       "Sale-pos    0.057065 -0.143192  0.530276 -0.191502  \n",
       "payment    -0.042010 -0.077953  0.769189 -0.441997  \n",
       "long_lat    1.000000  0.036850 -0.002812  0.098019  \n",
       "Avg_bal     0.036850  1.000000  0.052982 -0.103578  \n",
       "salary     -0.002812  0.052982  1.000000 -0.661387  \n",
       "Class       0.098019 -0.103578 -0.661387  1.000000  "
      ]
     },
     "execution_count": 128,
     "metadata": {},
     "output_type": "execute_result"
    }
   ],
   "source": [
    "df_pred.corr()"
   ]
  },
  {
   "cell_type": "code",
   "execution_count": 143,
   "metadata": {},
   "outputs": [
    {
     "data": {
      "text/plain": [
       "<matplotlib.axes._subplots.AxesSubplot at 0x22c0c4f9e08>"
      ]
     },
     "execution_count": 143,
     "metadata": {},
     "output_type": "execute_result"
    },
    {
     "data": {
      "image/png": "[encoded data removed]",
      "text/plain": [
       "<Figure size 432x288 with 1 Axes>"
      ]
     },
     "metadata": {
      "needs_background": "light"
     },
     "output_type": "display_data"
    }
   ],
   "source": [
    "fig=plt.figure()\n",
    "sns.scatterplot(x='spending',y='salary',color='orange',data=df_pred)"
   ]
  },
  {
   "cell_type": "code",
   "execution_count": 122,
   "metadata": {
    "scrolled": false
   },
   "outputs": [
    {
     "data": {
      "text/plain": [
       "<matplotlib.axes._subplots.AxesSubplot at 0x22c0e4dbb88>"
      ]
     },
     "execution_count": 122,
     "metadata": {},
     "output_type": "execute_result"
    },
    {
     "data": {
      "image/png": "[encoded data removed]",
      "text/plain": [
       "<Figure size 432x288 with 1 Axes>"
      ]
     },
     "metadata": {
      "needs_background": "light"
     },
     "output_type": "display_data"
    },
    {
     "data": {
      "image/png": "[encoded data removed]",
      "text/plain": [
       "<Figure size 432x288 with 1 Axes>"
      ]
     },
     "metadata": {
      "needs_background": "light"
     },
     "output_type": "display_data"
    },
    {
     "data": {
      "image/png": "[encoded data removed]",
      "text/plain": [
       "<Figure size 432x288 with 1 Axes>"
      ]
     },
     "metadata": {
      "needs_background": "light"
     },
     "output_type": "display_data"
    },
    {
     "data": {
      "image/png": "[encoded data removed]",
      "text/plain": [
       "<Figure size 432x288 with 1 Axes>"
      ]
     },
     "metadata": {
      "needs_background": "light"
     },
     "output_type": "display_data"
    }
   ],
   "source": [
    "fig=plt.figure()\n",
    "sns.scatterplot(x='spending',y='salary',data=df_pred)\n",
    "fig=plt.figure()\n",
    "sns.scatterplot(x='age',y='salary',data=df_pred)\n",
    "fig=plt.figure()\n",
    "sns.scatterplot(x='inter-bank',y='salary',data=df_pred)\n",
    "fig=plt.figure()\n",
    "sns.scatterplot(x='Avg_bal',y='salary',data=df_pred)"
   ]
  },
  {
   "cell_type": "markdown",
   "metadata": {},
   "source": [
    "# Predictive Models\n",
    "## regression and classification models with accuracy"
   ]
  },
  {
   "cell_type": "code",
   "execution_count": 136,
   "metadata": {},
   "outputs": [
    {
     "data": {
      "text/plain": [
       "LinearRegression(copy_X=True, fit_intercept=True, n_jobs=None, normalize=False)"
      ]
     },
     "execution_count": 136,
     "metadata": {},
     "output_type": "execute_result"
    }
   ],
   "source": [
    "#model\n",
    "from sklearn import linear_model\n",
    "regr = linear_model.LinearRegression()\n",
    "X=np.asanyarray(df_pred[['spending','payment','POS','Sale-pos','inter-bank']])\n",
    "y=np.asanyarray(df_pred['salary'])\n",
    "regr.fit(X,y)"
   ]
  },
  {
   "cell_type": "code",
   "execution_count": 137,
   "metadata": {},
   "outputs": [
    {
     "data": {
      "text/plain": [
       "0.9896187622884146"
      ]
     },
     "execution_count": 137,
     "metadata": {},
     "output_type": "execute_result"
    }
   ],
   "source": [
    "#accuracy\n",
    "from sklearn import metrics\n",
    "pred=regr.predict(X)\n",
    "regr.score(X,y)"
   ]
  },
  {
   "cell_type": "code",
   "execution_count": 126,
   "metadata": {},
   "outputs": [
    {
     "name": "stdout",
     "output_type": "stream",
     "text": [
      "DecisionTrees's Accuracy:  0.975\n"
     ]
    }
   ],
   "source": [
    "#descision model\n",
    "y=df_pred['Class']\n",
    "from sklearn.tree import DecisionTreeClassifier\n",
    "Saltree = DecisionTreeClassifier(criterion=\"entropy\", max_depth = 4)\n",
    "Saltree.fit(X,y)\n",
    "pred=Saltree.predict(X)\n",
    "print(\"DecisionTrees's Accuracy: \", metrics.accuracy_score(y,pred))"
   ]
  },
  {
   "cell_type": "code",
   "execution_count": null,
   "metadata": {},
   "outputs": [],
   "source": []
  }
 ],
 "metadata": {
  "kernelspec": {
   "display_name": "Python 3",
   "language": "python",
   "name": "python3"
  },
  "language_info": {
   "codemirror_mode": {
    "name": "ipython",
    "version": 3
   },
   "file_extension": ".py",
   "mimetype": "text/x-python",
   "name": "python",
   "nbconvert_exporter": "python",
   "pygments_lexer": "ipython3",
   "version": "3.7.6"
  }
 },
 "nbformat": 4,
 "nbformat_minor": 4
}
